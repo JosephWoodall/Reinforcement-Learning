{
 "cells": [
  {
   "cell_type": "markdown",
   "metadata": {},
   "source": [
    "# Reinforcement Learning with OSIM-RL!\n",
    "\n",
    "This package allows the user to synthesize physiologically accurage movement by combining biomechanical expertise with SoA control strategies using Deep Reinforcement Learning. \n",
    "This library's goals are to:\n",
    "- use Reinforcement Learning (RL) to solve problems in healthcare.\n",
    "- promote open-source tools in RL research (the physics simulator, the RL environment, and the competition platform on which we run challenges are all open-source).\n",
    "- encourage RL research in computationally complex environments, with stochasticity and highly-dimensional action spaces, relevant to real-life applications.\n",
    "- bridge biomechanics, neuroscience, and computer science communities.\n",
    "The documentation may be found here: http://osim-rl.kidzinski.com/docs/home/."
   ]
  },
  {
   "cell_type": "markdown",
   "metadata": {},
   "source": []
  }
 ],
 "metadata": {
  "language_info": {
   "name": "python"
  },
  "orig_nbformat": 4
 },
 "nbformat": 4,
 "nbformat_minor": 2
}
